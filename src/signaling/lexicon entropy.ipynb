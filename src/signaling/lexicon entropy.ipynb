{
 "cells": [
  {
   "cell_type": "code",
   "execution_count": 1,
   "metadata": {
    "collapsed": true
   },
   "outputs": [],
   "source": [
    "filename = \"out.txt\""
   ]
  },
  {
   "cell_type": "code",
   "execution_count": 5,
   "metadata": {},
   "outputs": [],
   "source": [
    "with open(filename, 'rb') as f:\n",
    "    lines = f.readlines()"
   ]
  },
  {
   "cell_type": "code",
   "execution_count": 8,
   "metadata": {},
   "outputs": [
    {
     "name": "stdout",
     "output_type": "stream",
     "text": [
      "b'Making lexicon from standard input...done! (took 0.00516917 seconds)\\n'\n",
      "b'Lexicon has 31 nodes and 34 edges\\n'\n",
      "b'1 : 4\\n'\n",
      "b'2 : 4\\n'\n",
      "b'3 : 1\\n'\n",
      "b'4 : 2\\n'\n",
      "b'5 : 1\\n'\n",
      "b'6 : 1\\n'\n",
      "b'3\\n'\n",
      "b'4\\n'\n",
      "b'Writing lexicon to standard output...q\\x91\\xf5\\xba\\xea\\xeb\\x8e\\xef\\xab\\xae{\\xbe\\xef\\xb9\\xee\\xcb\\x96\\xae\\xbd\\xef{\\xdfp\\xb9\\xd0]\\xf7m]s\\xdd\\xf7}\\xcfv\\\\\\xb5u\\xdb\\xf7u\\xc3t\\xdd\\x8fdone! (took 0.00120448 seconds)\\n'\n"
     ]
    }
   ],
   "source": [
    "for line in lines:\n",
    "    print(str(line))"
   ]
  },
  {
   "cell_type": "code",
   "execution_count": 61,
   "metadata": {},
   "outputs": [
    {
     "name": "stdout",
     "output_type": "stream",
     "text": [
      "b'Lexicon has 31 nodes and 34 edges\\n'\n",
      "b'34'\n",
      "34\n",
      "102 bits from edges\n"
     ]
    }
   ],
   "source": [
    "#calculate the number of bits from all the edges\n",
    "print(lines[1])\n",
    "print(lines[1].split()[-2])\n",
    "edges = int(lines[1].split()[-2])\n",
    "print(edges)\n",
    "bits_per_edge = 3\n",
    "print(\"{0} bits from edges\".format(bits_per_edge * edges))"
   ]
  },
  {
   "cell_type": "code",
   "execution_count": 45,
   "metadata": {},
   "outputs": [],
   "source": [
    "#format into hist\n",
    "hist = {}\n",
    "for line in lines:\n",
    "    if ':' in str(line): #makes sure it is a line with data\n",
    "        line = str(line[:-1])\n",
    "        count, occ = line.split(\" : \")\n",
    "        hist[int(count[2:])] = int(occ[:-1])"
   ]
  },
  {
   "cell_type": "code",
   "execution_count": 46,
   "metadata": {},
   "outputs": [
    {
     "name": "stdout",
     "output_type": "stream",
     "text": [
      "{1: 4, 2: 4, 3: 1, 4: 2, 5: 1, 6: 1}\n"
     ]
    }
   ],
   "source": [
    "print(hist)"
   ]
  },
  {
   "cell_type": "code",
   "execution_count": 99,
   "metadata": {},
   "outputs": [
    {
     "name": "stdout",
     "output_type": "stream",
     "text": [
      "1 4\n",
      "2 4\n",
      "3 1\n",
      "4 2\n",
      "5 1\n",
      "6 1\n",
      "the entropy is 0.18181818181818182 with 34 edges, taking 18.545454545454547 bits\n",
      "there are 11 labels with less than 5 occurences, which use 154 bits\n",
      "274.54545454545456 total bits with a 5 frequency cutoff\n"
     ]
    }
   ],
   "source": [
    "#calculate entropy of the set I want to use\n",
    "frequency_cutoff = 5\n",
    "below_cutoff = 0\n",
    "label_num = 0\n",
    "total_counts = 0\n",
    "for count, occ in hist.items():\n",
    "    print(count, occ)\n",
    "    if count >= frequency_cutoff:\n",
    "        label_num += occ\n",
    "        total_counts += count * occ\n",
    "    else:\n",
    "        below_cutoff += occ\n",
    "entropy = label_num / total_counts\n",
    "print(\"the entropy is {0} with {1} edges, taking {2} bits\".format(entropy, edges, bits_per_edge * edges * entropy))\n",
    "#this willl need to be changed in the future, assumes each label is 1 character long\n",
    "print(\"there are {0} labels with less than {1} occurences, which use {2} bits\".format(below_cutoff, frequency_cutoff, 14 * below_cutoff))\n",
    "total_bits = edges * bits_per_edge + bits_per_edge * edges * entropy + 14 * below_cutoff\n",
    "print(\"{0} total bits with a {1} frequency cutoff\".format(total_bits, frequency_cutoff))"
   ]
  },
  {
   "cell_type": "code",
   "execution_count": 94,
   "metadata": {},
   "outputs": [
    {
     "name": "stdout",
     "output_type": "stream",
     "text": [
      "141.0 total bits with a 1 frequency cutoff\n"
     ]
    }
   ],
   "source": [
    "total_bits = edges * bits_per_edge + bits_per_edge * edges * entropy + 14 * below_cutoff\n",
    "print(\"{0} total bits with a {1} frequency cutoff\".format(total_bits, frequency_cutoff))"
   ]
  },
  {
   "cell_type": "code",
   "execution_count": null,
   "metadata": {
    "collapsed": true
   },
   "outputs": [],
   "source": []
  }
 ],
 "metadata": {
  "kernelspec": {
   "display_name": "Python 3",
   "language": "python",
   "name": "python3"
  },
  "language_info": {
   "codemirror_mode": {
    "name": "ipython",
    "version": 3
   },
   "file_extension": ".py",
   "mimetype": "text/x-python",
   "name": "python",
   "nbconvert_exporter": "python",
   "pygments_lexer": "ipython3",
   "version": "3.6.3"
  }
 },
 "nbformat": 4,
 "nbformat_minor": 2
}
