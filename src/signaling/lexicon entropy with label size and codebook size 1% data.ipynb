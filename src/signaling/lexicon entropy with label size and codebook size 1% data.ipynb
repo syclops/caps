{
 "cells": [
  {
   "cell_type": "code",
   "execution_count": 9,
   "metadata": {
    "collapsed": true
   },
   "outputs": [],
   "source": [
    "import math\n",
    "filename = \"out_01.txt\""
   ]
  },
  {
   "cell_type": "code",
   "execution_count": 10,
   "metadata": {
    "collapsed": true
   },
   "outputs": [],
   "source": [
    "with open(filename, 'rb') as f:\n",
    "    lines = f.readlines()"
   ]
  },
  {
   "cell_type": "code",
   "execution_count": 11,
   "metadata": {},
   "outputs": [
    {
     "name": "stdout",
     "output_type": "stream",
     "text": [
      "b'Making lexicon from standard input...done! (took 226.618 seconds)\\n'\n",
      "b'Lexicon has 2774782 nodes and 3402091 edges\\n'\n",
      "b'_ : 3\\n'\n",
      "b'8 : 7174\\n'\n",
      "b'7 : 7206\\n'\n",
      "b'6 : 7082\\n'\n",
      "b'l : 163554\\n'\n",
      "b't : 197744\\n'\n",
      "b's : 190152\\n'\n",
      "b'a : 294277\\n'\n",
      "b'e : 309931\\n'\n",
      "b'b : 74191\\n'\n",
      "b'h : 90001\\n'\n",
      "b'n : 200809\\n'\n",
      "b'z : 19175\\n'\n",
      "b'x : 15671\\n'\n",
      "b'. : 120778\\n'\n",
      "b'* : 421\\n'\n",
      "b'y : 56004\\n'\n",
      "b'f : 56725\\n'\n",
      "b'5 : 7600\\n'\n",
      "b'o : 220100\\n'\n",
      "b'm : 105438\\n'\n",
      "b'c : 136720\\n'\n",
      "b'k : 53924\\n'\n",
      "b'd : 112158\\n'\n",
      "b'r : 219273\\n'\n",
      "b'i : 234562\\n'\n",
      "b'0 : 9428\\n'\n",
      "b'1 : 11124\\n'\n",
      "b'2 : 11451\\n'\n",
      "b'4 : 9109\\n'\n",
      "b'g : 79375\\n'\n",
      "b'p : 88594\\n'\n",
      "b'v : 47647\\n'\n",
      "b'w : 46235\\n'\n",
      "b'q : 8036\\n'\n",
      "b'- : 52564\\n'\n",
      "b'u : 104143\\n'\n",
      "b'j : 17977\\n'\n",
      "b'3 : 8911\\n'\n",
      "b'9 : 6824\\n'\n"
     ]
    }
   ],
   "source": [
    "for line in lines:\n",
    "    print(str(line))"
   ]
  },
  {
   "cell_type": "code",
   "execution_count": 12,
   "metadata": {},
   "outputs": [
    {
     "name": "stdout",
     "output_type": "stream",
     "text": [
      "b'Lexicon has 2774782 nodes and 3402091 edges\\n'\n",
      "b'3402091'\n",
      "3402091\n",
      "10206273 bits from edges\n"
     ]
    }
   ],
   "source": [
    "#calculate the number of bits from all the edges\n",
    "print(lines[1])\n",
    "print(lines[1].split()[-2])\n",
    "edges = int(lines[1].split()[-2])\n",
    "print(edges)\n",
    "bits_per_edge = 3\n",
    "print(\"{0} bits from edges\".format(bits_per_edge * edges))"
   ]
  },
  {
   "cell_type": "code",
   "execution_count": 13,
   "metadata": {
    "collapsed": true
   },
   "outputs": [],
   "source": [
    "#format into hist\n",
    "hist = {}\n",
    "for line in lines:\n",
    "    if ':' in str(line): #makes sure it is a line with data\n",
    "        line = str(line[:-1])\n",
    "        symbol, occ = line.split(\" : \")\n",
    "        hist[str(symbol[2:])] = int(occ[:-1])"
   ]
  },
  {
   "cell_type": "code",
   "execution_count": 14,
   "metadata": {},
   "outputs": [
    {
     "name": "stdout",
     "output_type": "stream",
     "text": [
      "40\n"
     ]
    }
   ],
   "source": [
    "print(len(hist.keys()))"
   ]
  },
  {
   "cell_type": "code",
   "execution_count": 35,
   "metadata": {},
   "outputs": [
    {
     "name": "stdout",
     "output_type": "stream",
     "text": [
      "3\n",
      "309931\n"
     ]
    }
   ],
   "source": [
    "print(min(hist.values()))\n",
    "print(max(hist.values()))\n",
    "max_cutoff = max(hist.values())\n",
    "fifths = int(max_cutoff / 5)"
   ]
  },
  {
   "cell_type": "code",
   "execution_count": 36,
   "metadata": {},
   "outputs": [
    {
     "name": "stdout",
     "output_type": "stream",
     "text": [
      "_ 3\n",
      "8 7174\n",
      "7 7206\n",
      "6 7082\n",
      "l 163554\n",
      "t 197744\n",
      "s 190152\n",
      "a 294277\n",
      "e 309931\n",
      "b 74191\n",
      "h 90001\n",
      "n 200809\n",
      "z 19175\n",
      "x 15671\n",
      ". 120778\n",
      "* 421\n",
      "y 56004\n",
      "f 56725\n",
      "5 7600\n",
      "o 220100\n",
      "m 105438\n",
      "c 136720\n",
      "k 53924\n",
      "d 112158\n",
      "r 219273\n",
      "i 234562\n",
      "0 9428\n",
      "1 11124\n",
      "2 11451\n",
      "4 9109\n",
      "g 79375\n",
      "p 88594\n",
      "v 47647\n",
      "w 46235\n",
      "q 8036\n",
      "- 52564\n",
      "u 104143\n",
      "j 17977\n",
      "3 8911\n",
      "9 6824\n",
      "[8.818106276404717e-07, 0.002108703147564248, 0.002118109127592413, 0.0020816609549832734, 0.04807455179770324, 0.05812425358404581, 0.05589268482236366, 0.08649886202338503, 0.09110014987841301, 0.021807470758424746, 0.02645461276609003, 0.05902517010861849, 0.005636239595002015, 0.004606284781917944, 0.03550110799505363, 0.0001237474247455462, 0.016461640796792326, 0.016673569284301918, 0.002233920256689195, 0.06469550638122261, 0.030992116319052018, 0.040187049670335095, 0.0158502520949616, 0.03296737212496668, 0.06445242058486972, 0.06894642148020144, 0.0027712368657981223, 0.003269753807290869, 0.0033658711657036803, 0.0026774710023923522, 0.02333123952298748, 0.02604104358172665, 0.014005210325061851, 0.01359017145631907, 0.0023620767345729436, 0.015450497943764584, 0.030611468064787213, 0.005284103217697587, 0.002619271500968081, 0.002005825241006193]\n",
      "4.582548649832612\n",
      "the entropy is 4.582548649832612 with 3402091 edges, taking 46770742.55597304 bits\n",
      "there are 0 labels with less than 3 occurences, which use 0 bits\n",
      "56977015 total bits with a 3 frequency cutoff\n"
     ]
    }
   ],
   "source": [
    "#calculate entropy of the set I want to use\n",
    "frequency_cutoff = 3\n",
    "below_cutoff = 0\n",
    "label_num = 0\n",
    "total_counts = 0\n",
    "total_bits_below_cutoff = 0\n",
    "frequencies = []\n",
    "for symbol, occ in hist.items():\n",
    "    if occ >= frequency_cutoff:\n",
    "        print(symbol, occ)\n",
    "        label_num += 1\n",
    "        frequencies.append(occ)\n",
    "        total_counts += occ\n",
    "    else:\n",
    "        below_cutoff += 1\n",
    "        total_bits_below_cutoff += 7 * (len(symbol) + 1)\n",
    "for i in range(len(frequencies)):\n",
    "    frequencies[i] /= total_counts\n",
    "print(frequencies)\n",
    "entropy = 0\n",
    "for f in frequencies:\n",
    "    entropy -= f * math.log(f, 2)\n",
    "print(entropy)\n",
    "print(\"the entropy is {0} with {1} edges, taking {2} bits\".format(entropy, edges, bits_per_edge * edges * entropy))\n",
    "#this willl need to be changed in the future, assumes each label is 1 character long\n",
    "print(\"there are {0} labels with less than {1} occurences, which use {2} bits\".format(below_cutoff, frequency_cutoff, total_bits_below_cutoff))\n",
    "total_bits = edges * bits_per_edge + bits_per_edge * edges * entropy + total_bits_below_cutoff\n",
    "print(\"{0} total bits with a {1} frequency cutoff\".format(int(total_bits), frequency_cutoff))"
   ]
  },
  {
   "cell_type": "code",
   "execution_count": 37,
   "metadata": {},
   "outputs": [
    {
     "name": "stdout",
     "output_type": "stream",
     "text": [
      "56977015 total bits with a 0 frequency cutoff\n",
      "51394949 total bits with a 61986 frequency cutoff\n",
      "43715818 total bits with a 123972 frequency cutoff\n",
      "40596330 total bits with a 185958 frequency cutoff\n",
      "20408135 total bits with a 247944 frequency cutoff\n",
      "10206819 total bits with a 309930 frequency cutoff\n"
     ]
    }
   ],
   "source": [
    "#param sweep\n",
    "for frequency_cutoff in range(6):\n",
    "    #calculate entropy of the set I want to use\n",
    "    below_cutoff = 0\n",
    "    label_num = 0\n",
    "    total_counts = 0\n",
    "    total_bits_below_cutoff = 0\n",
    "    frequencies = []\n",
    "    for symbol, occ in hist.items():\n",
    "        if occ >= frequency_cutoff * fifths:\n",
    "#             print(symbol, occ)\n",
    "            label_num += 1\n",
    "            frequencies.append(occ)\n",
    "            total_counts += occ\n",
    "        else:\n",
    "            below_cutoff += 1\n",
    "            total_bits_below_cutoff += 7 * (len(symbol) + 1)\n",
    "    for i in range(len(frequencies)):\n",
    "        frequencies[i] /= total_counts\n",
    "#     print(frequencies)\n",
    "    entropy = 0\n",
    "    for f in frequencies:\n",
    "        entropy -= f * math.log(f, 2)\n",
    "#     print(entropy)\n",
    "    # entropy = label_num / total_counts #redo this!!!\n",
    "#     print(\"the entropy is {0} with {1} edges, taking {2} bits\".format(entropy, edges, bits_per_edge * edges * entropy))\n",
    "    #this willl need to be changed in the future, assumes each label is 1 character long\n",
    "#     print(\"there are {0} labels with less than {1} occurences, which use {2} bits\".format(below_cutoff, frequency_cutoff, total_bits_below_cutoff))\n",
    "    total_bits = edges * bits_per_edge + bits_per_edge * edges * entropy + total_bits_below_cutoff\n",
    "    print(\"{0} total bits with a {1} frequency cutoff\".format(int(total_bits), frequency_cutoff * fifths))"
   ]
  },
  {
   "cell_type": "code",
   "execution_count": 32,
   "metadata": {},
   "outputs": [
    {
     "name": "stdout",
     "output_type": "stream",
     "text": [
      "10206819.0 total bits from nodes+edges with a 5 frequency cutoff\n"
     ]
    }
   ],
   "source": [
    "total_bits = edges * bits_per_edge + bits_per_edge * edges * entropy + 14 * below_cutoff\n",
    "print(f\"{total_bits} total bits from nodes+edges with a {frequency_cutoff} frequency cutoff\")\n",
    "#steve can you confirm this is correct?"
   ]
  },
  {
   "cell_type": "code",
   "execution_count": 33,
   "metadata": {},
   "outputs": [
    {
     "name": "stdout",
     "output_type": "stream",
     "text": [
      "labels:  ['_', '8', '7', '6', 'l', 't', 's', 'a', 'e', 'b', 'h', 'n', 'z', 'x', '.', '*', 'y', 'f', '5', 'o', 'm', 'c', 'k', 'd', 'r', 'i', '0', '1', '2', '4', 'g', 'p', 'v', 'w', 'q', '-', 'u', 'j', '3', '9']\n",
      "bits from labels:  560\n",
      "total labels:  40\n",
      "6\n",
      "3\n",
      "codebook bit lengths storage size:  18\n",
      "total codebook size:  578 bits\n"
     ]
    }
   ],
   "source": [
    "import math\n",
    "\n",
    "#calculate codebook size\n",
    "#use 2.6.2 and 2.6.3 in compact data structures book\n",
    "#or just the canonical huffman wikipedia page is actually very helpful\n",
    "\n",
    "#you can store a canonical huffman codebook as a list of symbols in order of mots frequent to least\n",
    "#and then the number of symbols for each bit-length\n",
    "#example: A = 11, B = 0, C = 101, D = 100\n",
    "#becomes (1,1,2), ('B','A','C','D')\n",
    "#so to calculate size we take the size of a list of ints (probably normal size maybe long? ask steve) of list size log base 2 of total symbols\n",
    "#and add the length of a list of labels which is 7(n+1) for each label where n is label size\n",
    "labels = hist.keys()\n",
    "print(\"labels: \", list(labels))\n",
    "label_bits = 0\n",
    "for l in labels:\n",
    "    label_bits += 7 * (len(l) + 1)\n",
    "print(\"bits from labels: \", label_bits)\n",
    "print(\"total labels: \", len(labels))\n",
    "int_size = math.ceil(math.log(len(labels), 2)) #bit size of an unsigned int in c, goes up to 4,294,967,295, no idea if that is enough, ask steve\n",
    "print(int_size)\n",
    "int_size = math.ceil(math.log(int_size + 1, 2))\n",
    "print(int_size)\n",
    "bit_length_storage =  int_size * math.ceil(math.log(len(labels), 2))\n",
    "print(\"codebook bit lengths storage size: \", bit_length_storage)\n",
    "print(\"total codebook size: \", str(bit_length_storage + label_bits) + \" bits\")"
   ]
  },
  {
   "cell_type": "code",
   "execution_count": 34,
   "metadata": {
    "collapsed": true
   },
   "outputs": [],
   "source": [
    "# sweep with everything later"
   ]
  },
  {
   "cell_type": "code",
   "execution_count": null,
   "metadata": {
    "collapsed": true
   },
   "outputs": [],
   "source": []
  }
 ],
 "metadata": {
  "kernelspec": {
   "display_name": "Python 3",
   "language": "python",
   "name": "python3"
  },
  "language_info": {
   "codemirror_mode": {
    "name": "ipython",
    "version": 3
   },
   "file_extension": ".py",
   "mimetype": "text/x-python",
   "name": "python",
   "nbconvert_exporter": "python",
   "pygments_lexer": "ipython3",
   "version": "3.6.3"
  }
 },
 "nbformat": 4,
 "nbformat_minor": 2
}
