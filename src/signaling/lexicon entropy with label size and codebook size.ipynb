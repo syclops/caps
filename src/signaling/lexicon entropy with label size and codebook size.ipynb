{
 "cells": [
  {
   "cell_type": "code",
   "execution_count": 1,
   "metadata": {
    "collapsed": true
   },
   "outputs": [],
   "source": [
    "filename = \"out.txt\""
   ]
  },
  {
   "cell_type": "code",
   "execution_count": 2,
   "metadata": {
    "collapsed": true
   },
   "outputs": [],
   "source": [
    "with open(filename, 'rb') as f:\n",
    "    lines = f.readlines()"
   ]
  },
  {
   "cell_type": "code",
   "execution_count": 3,
   "metadata": {},
   "outputs": [
    {
     "name": "stdout",
     "output_type": "stream",
     "text": [
      "b'Making lexicon from standard input...done! (took 0.000706966 seconds)\\n'\n",
      "b'Lexicon has 31 nodes and 34 edges\\n'\n",
      "b'k : 1\\n'\n",
      "b'i : 1\\n'\n",
      "b'h : 1\\n'\n",
      "b'w : 4\\n'\n",
      "b'u : 1\\n'\n",
      "b'e : 2\\n'\n",
      "b'a : 2\\n'\n",
      "b'c : 2\\n'\n",
      "b'g : 4\\n'\n",
      "b'. : 5\\n'\n",
      "b'l : 3\\n'\n",
      "b'm : 2\\n'\n",
      "b'o : 6\\n'\n",
      "b'3\\n'\n",
      "b'4\\n'\n",
      "b'Writing lexicon to standard output...q\\x91\\xf5\\xba\\xea\\xeb\\x8e\\xef\\xab\\xae{\\xbe\\xef\\xb9\\xee\\xcb\\x96\\xae\\xbd\\xef{\\xdfp\\xb9\\xd0]\\xf7m]s\\xdd\\xf7}\\xcfv\\\\\\xb5u\\xdb\\xf7u\\xc3t\\xdd\\x8fdone! (took 0.00026736 seconds)\\n'\n"
     ]
    }
   ],
   "source": [
    "for line in lines:\n",
    "    print(str(line))"
   ]
  },
  {
   "cell_type": "code",
   "execution_count": 4,
   "metadata": {},
   "outputs": [
    {
     "name": "stdout",
     "output_type": "stream",
     "text": [
      "b'Lexicon has 31 nodes and 34 edges\\n'\n",
      "b'34'\n",
      "34\n",
      "102 bits from edges\n"
     ]
    }
   ],
   "source": [
    "#calculate the number of bits from all the edges\n",
    "print(lines[1])\n",
    "print(lines[1].split()[-2])\n",
    "edges = int(lines[1].split()[-2])\n",
    "print(edges)\n",
    "bits_per_edge = 3\n",
    "print(\"{0} bits from edges\".format(bits_per_edge * edges))"
   ]
  },
  {
   "cell_type": "code",
   "execution_count": 7,
   "metadata": {
    "collapsed": true
   },
   "outputs": [],
   "source": [
    "#format into hist\n",
    "hist = {}\n",
    "for line in lines:\n",
    "    if ':' in str(line): #makes sure it is a line with data\n",
    "        line = str(line[:-1])\n",
    "        symbol, occ = line.split(\" : \")\n",
    "        hist[str(symbol[2:])] = int(occ[:-1])"
   ]
  },
  {
   "cell_type": "code",
   "execution_count": 20,
   "metadata": {},
   "outputs": [
    {
     "name": "stdout",
     "output_type": "stream",
     "text": [
      "13\n"
     ]
    }
   ],
   "source": [
    "print(len(hist.keys()))"
   ]
  },
  {
   "cell_type": "code",
   "execution_count": 38,
   "metadata": {},
   "outputs": [
    {
     "name": "stdout",
     "output_type": "stream",
     "text": [
      "w 4\n",
      "g 4\n",
      ". 5\n",
      "l 3\n",
      "o 6\n",
      "[0.18181818181818182, 0.18181818181818182, 0.22727272727272727, 0.13636363636363635, 0.2727272727272727]\n",
      "2.28332693768606\n",
      "the entropy is 2.28332693768606 with 34 edges, taking 232.89934764397813 bits\n",
      "there are 8 labels with less than 3 occurences, which use 112 bits\n",
      "446 total bits with a 3 frequency cutoff\n"
     ]
    }
   ],
   "source": [
    "#calculate entropy of the set I want to use\n",
    "frequency_cutoff = 3\n",
    "below_cutoff = 0\n",
    "label_num = 0\n",
    "total_counts = 0\n",
    "total_bits_below_cutoff = 0\n",
    "frequencies = []\n",
    "for symbol, occ in hist.items():\n",
    "    if occ >= frequency_cutoff:\n",
    "        print(symbol, occ)\n",
    "        label_num += 1\n",
    "        frequencies.append(occ)\n",
    "        total_counts += occ\n",
    "    else:\n",
    "        below_cutoff += 1\n",
    "        total_bits_below_cutoff += 7 * (len(symbol) + 1)\n",
    "for i in range(len(frequencies)):\n",
    "    frequencies[i] /= total_counts\n",
    "print(frequencies)\n",
    "entropy = 0\n",
    "for f in frequencies:\n",
    "    entropy -= f * math.log(f, 2)\n",
    "print(entropy)\n",
    "# entropy = label_num / total_counts #redo this!!!\n",
    "print(\"the entropy is {0} with {1} edges, taking {2} bits\".format(entropy, edges, bits_per_edge * edges * entropy))\n",
    "#this willl need to be changed in the future, assumes each label is 1 character long\n",
    "print(\"there are {0} labels with less than {1} occurences, which use {2} bits\".format(below_cutoff, frequency_cutoff, total_bits_below_cutoff))\n",
    "total_bits = edges * bits_per_edge + bits_per_edge * edges * entropy + total_bits_below_cutoff\n",
    "print(\"{0} total bits with a {1} frequency cutoff\".format(int(total_bits), frequency_cutoff))"
   ]
  },
  {
   "cell_type": "code",
   "execution_count": 40,
   "metadata": {},
   "outputs": [
    {
     "name": "stdout",
     "output_type": "stream",
     "text": [
      "453 total bits with a 0 frequency cutoff\n",
      "453 total bits with a 1 frequency cutoff\n",
      "468 total bits with a 2 frequency cutoff\n",
      "446 total bits with a 3 frequency cutoff\n",
      "429 total bits with a 4 frequency cutoff\n",
      "357 total bits with a 5 frequency cutoff\n"
     ]
    }
   ],
   "source": [
    "#param sweep\n",
    "for frequency_cutoff in range(6):\n",
    "    #calculate entropy of the set I want to use\n",
    "    below_cutoff = 0\n",
    "    label_num = 0\n",
    "    total_counts = 0\n",
    "    total_bits_below_cutoff = 0\n",
    "    frequencies = []\n",
    "    for symbol, occ in hist.items():\n",
    "        if occ >= frequency_cutoff:\n",
    "#             print(symbol, occ)\n",
    "            label_num += 1\n",
    "            frequencies.append(occ)\n",
    "            total_counts += occ\n",
    "        else:\n",
    "            below_cutoff += 1\n",
    "            total_bits_below_cutoff += 7 * (len(symbol) + 1)\n",
    "    for i in range(len(frequencies)):\n",
    "        frequencies[i] /= total_counts\n",
    "#     print(frequencies)\n",
    "    entropy = 0\n",
    "    for f in frequencies:\n",
    "        entropy -= f * math.log(f, 2)\n",
    "#     print(entropy)\n",
    "    # entropy = label_num / total_counts #redo this!!!\n",
    "#     print(\"the entropy is {0} with {1} edges, taking {2} bits\".format(entropy, edges, bits_per_edge * edges * entropy))\n",
    "    #this willl need to be changed in the future, assumes each label is 1 character long\n",
    "#     print(\"there are {0} labels with less than {1} occurences, which use {2} bits\".format(below_cutoff, frequency_cutoff, total_bits_below_cutoff))\n",
    "    total_bits = edges * bits_per_edge + bits_per_edge * edges * entropy + total_bits_below_cutoff\n",
    "    print(\"{0} total bits with a {1} frequency cutoff\".format(int(total_bits), frequency_cutoff))"
   ]
  },
  {
   "cell_type": "code",
   "execution_count": 13,
   "metadata": {},
   "outputs": [
    {
     "name": "stdout",
     "output_type": "stream",
     "text": [
      "260.0 total bits from nodes+edges with a 2 frequency cutoff\n"
     ]
    }
   ],
   "source": [
    "total_bits = edges * bits_per_edge + bits_per_edge * edges * entropy + 14 * below_cutoff\n",
    "print(f\"{total_bits} total bits from nodes+edges with a {frequency_cutoff} frequency cutoff\")\n",
    "#steve can you confirm this is correct?"
   ]
  },
  {
   "cell_type": "code",
   "execution_count": 47,
   "metadata": {},
   "outputs": [
    {
     "name": "stdout",
     "output_type": "stream",
     "text": [
      "labels:  ['k', 'i', 'h', 'w', 'u', 'e', 'a', 'c', 'g', '.', 'l', 'm', 'o']\n",
      "bits from labels:  182\n",
      "total labels:  13\n",
      "4\n",
      "3\n",
      "codebook bit lengths storage size:  12\n",
      "total codebook size:  194 bits\n"
     ]
    }
   ],
   "source": [
    "import math\n",
    "\n",
    "#calculate codebook size\n",
    "#use 2.6.2 and 2.6.3 in compact data structures book\n",
    "#or just the canonical huffman wikipedia page is actually very helpful\n",
    "\n",
    "#you can store a canonical huffman codebook as a list of symbols in order of mots frequent to least\n",
    "#and then the number of symbols for each bit-length\n",
    "#example: A = 11, B = 0, C = 101, D = 100\n",
    "#becomes (1,1,2), ('B','A','C','D')\n",
    "#so to calculate size we take the size of a list of ints (probably normal size maybe long? ask steve) of list size log base 2 of total symbols\n",
    "#and add the length of a list of labels which is 7(n+1) for each label where n is label size\n",
    "labels = hist.keys()\n",
    "print(\"labels: \", list(labels))\n",
    "label_bits = 0\n",
    "for l in labels:\n",
    "    label_bits += 7 * (len(l) + 1)\n",
    "print(\"bits from labels: \", label_bits)\n",
    "print(\"total labels: \", len(labels))\n",
    "int_size = math.ceil(math.log(len(labels), 2)) #bit size of an unsigned int in c, goes up to 4,294,967,295, no idea if that is enough, ask steve\n",
    "print(int_size)\n",
    "int_size = math.ceil(math.log(int_size + 1, 2))\n",
    "print(int_size)\n",
    "bit_length_storage =  int_size * math.ceil(math.log(len(labels), 2))\n",
    "print(\"codebook bit lengths storage size: \", bit_length_storage)\n",
    "print(\"total codebook size: \", str(bit_length_storage + label_bits) + \" bits\")"
   ]
  },
  {
   "cell_type": "code",
   "execution_count": null,
   "metadata": {
    "collapsed": true
   },
   "outputs": [],
   "source": [
    "# sweep with everything later"
   ]
  }
 ],
 "metadata": {
  "kernelspec": {
   "display_name": "Python 3",
   "language": "python",
   "name": "python3"
  },
  "language_info": {
   "codemirror_mode": {
    "name": "ipython",
    "version": 3
   },
   "file_extension": ".py",
   "mimetype": "text/x-python",
   "name": "python",
   "nbconvert_exporter": "python",
   "pygments_lexer": "ipython3",
   "version": "3.6.3"
  }
 },
 "nbformat": 4,
 "nbformat_minor": 2
}
