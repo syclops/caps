{
 "cells": [
  {
   "cell_type": "code",
   "execution_count": 1,
   "metadata": {
    "collapsed": true
   },
   "outputs": [],
   "source": [
    "filename = \"out.txt\""
   ]
  },
  {
   "cell_type": "code",
   "execution_count": 2,
   "metadata": {
    "collapsed": true
   },
   "outputs": [],
   "source": [
    "with open(filename, 'rb') as f:\n",
    "    lines = f.readlines()"
   ]
  },
  {
   "cell_type": "code",
   "execution_count": 3,
   "metadata": {},
   "outputs": [
    {
     "name": "stdout",
     "output_type": "stream",
     "text": [
      "b'Making lexicon from standard input...done! (took 0.000706966 seconds)\\n'\n",
      "b'Lexicon has 31 nodes and 34 edges\\n'\n",
      "b'k : 1\\n'\n",
      "b'i : 1\\n'\n",
      "b'h : 1\\n'\n",
      "b'w : 4\\n'\n",
      "b'u : 1\\n'\n",
      "b'e : 2\\n'\n",
      "b'a : 2\\n'\n",
      "b'c : 2\\n'\n",
      "b'g : 4\\n'\n",
      "b'. : 5\\n'\n",
      "b'l : 3\\n'\n",
      "b'm : 2\\n'\n",
      "b'o : 6\\n'\n",
      "b'3\\n'\n",
      "b'4\\n'\n",
      "b'Writing lexicon to standard output...q\\x91\\xf5\\xba\\xea\\xeb\\x8e\\xef\\xab\\xae{\\xbe\\xef\\xb9\\xee\\xcb\\x96\\xae\\xbd\\xef{\\xdfp\\xb9\\xd0]\\xf7m]s\\xdd\\xf7}\\xcfv\\\\\\xb5u\\xdb\\xf7u\\xc3t\\xdd\\x8fdone! (took 0.00026736 seconds)\\n'\n"
     ]
    }
   ],
   "source": [
    "for line in lines:\n",
    "    print(str(line))"
   ]
  },
  {
   "cell_type": "code",
   "execution_count": 4,
   "metadata": {},
   "outputs": [
    {
     "name": "stdout",
     "output_type": "stream",
     "text": [
      "b'Lexicon has 31 nodes and 34 edges\\n'\n",
      "b'34'\n",
      "34\n",
      "102 bits from edges\n"
     ]
    }
   ],
   "source": [
    "#calculate the number of bits from all the edges\n",
    "print(lines[1])\n",
    "print(lines[1].split()[-2])\n",
    "edges = int(lines[1].split()[-2])\n",
    "print(edges)\n",
    "bits_per_edge = 3\n",
    "print(\"{0} bits from edges\".format(bits_per_edge * edges))"
   ]
  },
  {
   "cell_type": "code",
   "execution_count": 7,
   "metadata": {},
   "outputs": [],
   "source": [
    "#format into hist\n",
    "hist = {}\n",
    "for line in lines:\n",
    "    if ':' in str(line): #makes sure it is a line with data\n",
    "        line = str(line[:-1])\n",
    "        symbol, occ = line.split(\" : \")\n",
    "        hist[str(symbol[2:])] = int(occ[:-1])"
   ]
  },
  {
   "cell_type": "code",
   "execution_count": 8,
   "metadata": {},
   "outputs": [
    {
     "name": "stdout",
     "output_type": "stream",
     "text": [
      "{'k': 1, 'i': 1, 'h': 1, 'w': 4, 'u': 1, 'e': 2, 'a': 2, 'c': 2, 'g': 4, '.': 5, 'l': 3, 'm': 2, 'o': 6}\n"
     ]
    }
   ],
   "source": [
    "print(hist)"
   ]
  },
  {
   "cell_type": "code",
   "execution_count": 12,
   "metadata": {},
   "outputs": [
    {
     "name": "stdout",
     "output_type": "stream",
     "text": [
      "k 1\n",
      "i 1\n",
      "h 1\n",
      "w 4\n",
      "u 1\n",
      "e 2\n",
      "a 2\n",
      "c 2\n",
      "g 4\n",
      ". 5\n",
      "l 3\n",
      "m 2\n",
      "o 6\n",
      "the entropy is 1.0 with 34 edges, taking 102.0 bits\n",
      "there are 23 labels with less than 5 occurences, which use 154 bits\n",
      "358.0 total bits with a 5 frequency cutoff\n"
     ]
    }
   ],
   "source": [
    "#calculate entropy of the set I want to use\n",
    "frequency_cutoff = 5\n",
    "below_cutoff = 0\n",
    "label_num = 0\n",
    "total_counts = 0\n",
    "total_bits_below_cutoff = 0\n",
    "for symbol, occ in hist.items():\n",
    "    print(symbol, occ)\n",
    "    if occ >= frequency_cutoff:\n",
    "        label_num += occ\n",
    "        total_counts += occ\n",
    "    else:\n",
    "        below_cutoff += occ\n",
    "        total_bits_below_cutoff += 7 * (len(symbol) + 1)\n",
    "entropy = label_num / total_counts\n",
    "print(\"the entropy is {0} with {1} edges, taking {2} bits\".format(entropy, edges, bits_per_edge * edges * entropy))\n",
    "#this willl need to be changed in the future, assumes each label is 1 character long\n",
    "print(\"there are {0} labels with less than {1} occurences, which use {2} bits\".format(below_cutoff, frequency_cutoff, total_bits_below_cutoff))\n",
    "total_bits = edges * bits_per_edge + bits_per_edge * edges * entropy + total_bits_below_cutoff\n",
    "print(\"{0} total bits with a {1} frequency cutoff\".format(total_bits, frequency_cutoff))"
   ]
  },
  {
   "cell_type": "code",
   "execution_count": 15,
   "metadata": {},
   "outputs": [
    {
     "name": "stdout",
     "output_type": "stream",
     "text": [
      "526.0 total bits from nodes+edges with a 5 frequency cutoff\n"
     ]
    }
   ],
   "source": [
    "total_bits = edges * bits_per_edge + bits_per_edge * edges * entropy + 14 * below_cutoff\n",
    "print(\"{0} total bits from nodes+edges with a {1} frequency cutoff\".format(total_bits, frequency_cutoff))\n",
    "#steve can you confirm this is correct?"
   ]
  },
  {
   "cell_type": "code",
   "execution_count": 31,
   "metadata": {},
   "outputs": [
    {
     "ename": "SyntaxError",
     "evalue": "invalid syntax (<ipython-input-31-585bbcb44e72>, line 23)",
     "output_type": "error",
     "traceback": [
      "\u001b[0;36m  File \u001b[0;32m\"<ipython-input-31-585bbcb44e72>\"\u001b[0;36m, line \u001b[0;32m23\u001b[0m\n\u001b[0;31m    print(\"total codebook size: \", str(bit_length_storage + label_bits +) \"bits\")\u001b[0m\n\u001b[0m                                                                        ^\u001b[0m\n\u001b[0;31mSyntaxError\u001b[0m\u001b[0;31m:\u001b[0m invalid syntax\n"
     ]
    }
   ],
   "source": [
    "import math\n",
    "\n",
    "#calculate codebook size\n",
    "#use 2.6.2 and 2.6.3 in compact data structures book\n",
    "#or just the canonical huffman wikipedia page is actually very helpful\n",
    "\n",
    "#you can store a canonical huffman codebook as a list of symbols in order of mots frequent to least\n",
    "#and then the number of symbols for each bit-length\n",
    "#example: A = 11, B = 0, C = 101, D = 100\n",
    "#becomes (1,1,2), ('B','A','C','D')\n",
    "#so to calculate size we take the size of a list of ints (probably normal size maybe long? ask steve) of list size log base 2 of total symbols\n",
    "#and add the length of a list of labels which is 7(n+1) for each label where n is label size\n",
    "labels = hist.keys()\n",
    "print(\"labels: \", list(labels))\n",
    "label_bits = 0\n",
    "for l in labels:\n",
    "    label_bits += 7 * (len(l) + 1)\n",
    "print(\"bits from labels: \", label_bits)\n",
    "print(\"total labels: \", len(labels))\n",
    "int_size = 4 #bit size of an unsigned int in c, goes up to 4,294,967,295, no idea if that is enough, ask steve\n",
    "bit_length_storage =  int_size * math.ceil(math.log(len(labels), 2))\n",
    "print(\"codebook bit lengths storage size: \", bit_length_storage)\n",
    "print(\"total codebook size: \", str(bit_length_storage + label_bits +) \"bits\")"
   ]
  },
  {
   "cell_type": "code",
   "execution_count": null,
   "metadata": {
    "collapsed": true
   },
   "outputs": [],
   "source": []
  }
 ],
 "metadata": {
  "kernelspec": {
   "display_name": "Python 3",
   "language": "python",
   "name": "python3"
  },
  "language_info": {
   "codemirror_mode": {
    "name": "ipython",
    "version": 3
   },
   "file_extension": ".py",
   "mimetype": "text/x-python",
   "name": "python",
   "nbconvert_exporter": "python",
   "pygments_lexer": "ipython3",
   "version": "3.6.3"
  }
 },
 "nbformat": 4,
 "nbformat_minor": 2
}
