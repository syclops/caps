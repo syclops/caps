{
 "cells": [
  {
   "cell_type": "code",
   "execution_count": 1,
   "metadata": {
    "collapsed": true
   },
   "outputs": [],
   "source": [
    "import math\n",
    "filename = \"out_05.txt\""
   ]
  },
  {
   "cell_type": "code",
   "execution_count": 2,
   "metadata": {
    "collapsed": true
   },
   "outputs": [],
   "source": [
    "from storage_calculations import testing, calculate_entropy, total_storage"
   ]
  },
  {
   "cell_type": "code",
   "execution_count": 3,
   "metadata": {},
   "outputs": [
    {
     "name": "stdout",
     "output_type": "stream",
     "text": [
      "hello this is a test\n"
     ]
    }
   ],
   "source": [
    "testing()"
   ]
  },
  {
   "cell_type": "code",
   "execution_count": 4,
   "metadata": {
    "collapsed": true
   },
   "outputs": [],
   "source": [
    "with open(filename, 'rb') as f:\n",
    "    lines = f.readlines()"
   ]
  },
  {
   "cell_type": "code",
   "execution_count": 5,
   "metadata": {},
   "outputs": [
    {
     "name": "stderr",
     "output_type": "stream",
     "text": [
      "IOPub data rate exceeded.\n",
      "The notebook server will temporarily stop sending output\n",
      "to the client in order to avoid crashing it.\n",
      "To change this limit, set the config variable\n",
      "`--NotebookApp.iopub_data_rate_limit`.\n"
     ]
    }
   ],
   "source": [
    "for line in lines:\n",
    "    print(str(line))"
   ]
  },
  {
   "cell_type": "code",
   "execution_count": 6,
   "metadata": {},
   "outputs": [
    {
     "name": "stdout",
     "output_type": "stream",
     "text": [
      "b'Lexicon has 9704836 nodes and 12667321 edges\\n'\n",
      "b'12667321'\n",
      "12667321\n",
      "38001963 bits from edges\n"
     ]
    }
   ],
   "source": [
    "#calculate the number of bits from all the edges\n",
    "print(lines[1])\n",
    "print(lines[1].split()[-2])\n",
    "edges = int(lines[1].split()[-2])\n",
    "print(edges)\n",
    "bits_per_edge = 3\n",
    "print(\"{0} bits from edges\".format(bits_per_edge * edges))"
   ]
  },
  {
   "cell_type": "code",
   "execution_count": 7,
   "metadata": {
    "collapsed": true
   },
   "outputs": [],
   "source": [
    "#format into hist\n",
    "hist = {}\n",
    "for line in lines:\n",
    "    if ':' in str(line): #makes sure it is a line with data\n",
    "        line = str(line[:-1])\n",
    "        if \" : \" not in line:\n",
    "            continue\n",
    "        symbol, occ = line.split(\" : \")\n",
    "        hist[str(symbol[2:])] = int(occ[:-1])"
   ]
  },
  {
   "cell_type": "code",
   "execution_count": 8,
   "metadata": {},
   "outputs": [
    {
     "name": "stdout",
     "output_type": "stream",
     "text": [
      "43\n"
     ]
    }
   ],
   "source": [
    "print(len(hist.keys()))"
   ]
  },
  {
   "cell_type": "code",
   "execution_count": 9,
   "metadata": {},
   "outputs": [
    {
     "data": {
      "text/plain": [
       "4.608771759591944"
      ]
     },
     "execution_count": 9,
     "metadata": {},
     "output_type": "execute_result"
    }
   ],
   "source": [
    "calculate_entropy(hist)"
   ]
  },
  {
   "cell_type": "code",
   "execution_count": 10,
   "metadata": {},
   "outputs": [
    {
     "name": "stdout",
     "output_type": "stream",
     "text": [
      "0\n",
      "175142373.88345796\n"
     ]
    },
    {
     "data": {
      "text/plain": [
       "213144336"
      ]
     },
     "execution_count": 10,
     "metadata": {},
     "output_type": "execute_result"
    }
   ],
   "source": [
    "total_storage(hist, edges)\n",
    "175142993.88345796\n",
    "213144336"
   ]
  },
  {
   "cell_type": "code",
   "execution_count": 20,
   "metadata": {},
   "outputs": [
    {
     "name": "stdout",
     "output_type": "stream",
     "text": [
      "1\n",
      "1122431\n"
     ]
    }
   ],
   "source": [
    "print(min(hist.values()))\n",
    "print(max(hist.values()))\n",
    "max_cutoff = max(hist.values())\n",
    "fifths = int(max_cutoff / 5)"
   ]
  },
  {
   "cell_type": "code",
   "execution_count": 21,
   "metadata": {},
   "outputs": [
    {
     "name": "stdout",
     "output_type": "stream",
     "text": [
      "_ 23\n",
      "9 28328\n",
      "7 29548\n",
      "8 30228\n",
      "3 36315\n",
      "l 600142\n",
      "v 177825\n",
      "z 73259\n",
      "x 57699\n",
      "s 706046\n",
      "b 281889\n",
      "a 1084057\n",
      "t 725622\n",
      "e 1122431\n",
      "n 731012\n",
      "1 45216\n",
      ". 443986\n",
      "c 522702\n",
      "m 402728\n",
      "r 798671\n",
      "i 862939\n",
      "f 217566\n",
      "* 5041\n",
      "y 204716\n",
      "p 335013\n",
      "g 296687\n",
      "- 214113\n",
      "d 422375\n",
      "k 201641\n",
      "o 811708\n",
      "5 31348\n",
      "h 335431\n",
      "u 385832\n",
      "j 69276\n",
      "2 46342\n",
      "4 37532\n",
      "w 193636\n",
      "q 30757\n",
      "6 29681\n",
      "0 37955\n",
      "[1.8156963953532066e-06, 0.002236306412502854, 0.002332617264778111, 0.0023862987234233362, 0.002866826721619639, 0.04737720287391583, 0.014038096152334086, 0.0057833087924861115, 0.004554950709368899, 0.05573761639798044, 0.022253253964770438, 0.08557906031553962, 0.05728301086039063, 0.08860843133620414, 0.05770851536347558, 0.00356950122662133, 0.03504972955596908, 0.04126383205408312, 0.031792685995991575, 0.06304974155535395, 0.06812327094390003, 0.017175382693539815, 0.00039795328386850064, 0.01616096101178813, 0.026447038978107122, 0.023421457236876383, 0.016902791404272224, 0.0333436854342309, 0.015918210298061564, 0.06407892563823307, 0.0024747152435448836, 0.02648003728650963, 0.0304588596353008, 0.005468877542803859, 0.0036583914066721, 0.0029629007439302846, 0.015286269009157109, 0.00242805974051646, 0.0023431167265425446, 0.0029962937689404765]\n",
      "4.608764011884733\n",
      "the entropy is 4.608764011884733 with 12667321 edges, taking 175142079.4553752 bits\n",
      "there are 3 labels with less than 3 occurences, which use 42 bits\n",
      "213144084 total bits with a 3 frequency cutoff\n"
     ]
    }
   ],
   "source": [
    "#calculate entropy of the set I want to use\n",
    "frequency_cutoff = 3\n",
    "below_cutoff = 0\n",
    "label_num = 0\n",
    "total_counts = 0\n",
    "total_bits_below_cutoff = 0\n",
    "frequencies = []\n",
    "for symbol, occ in hist.items():\n",
    "    if occ >= frequency_cutoff:\n",
    "        print(symbol, occ)\n",
    "        label_num += 1\n",
    "        frequencies.append(occ)\n",
    "        total_counts += occ\n",
    "    else:\n",
    "        below_cutoff += 1\n",
    "        total_bits_below_cutoff += 7 * (len(symbol) + 1)\n",
    "for i in range(len(frequencies)):\n",
    "    frequencies[i] /= total_counts\n",
    "print(frequencies)\n",
    "entropy = 0\n",
    "for f in frequencies:\n",
    "    entropy -= f * math.log(f, 2)\n",
    "print(entropy)\n",
    "print(\"the entropy is {0} with {1} edges, taking {2} bits\".format(entropy, edges, bits_per_edge * edges * entropy))\n",
    "#this willl need to be changed in the future, assumes each label is 1 character long\n",
    "print(\"there are {0} labels with less than {1} occurences, which use {2} bits\".format(below_cutoff, frequency_cutoff, total_bits_below_cutoff))\n",
    "total_bits = edges * bits_per_edge + bits_per_edge * edges * entropy + total_bits_below_cutoff\n",
    "print(\"{0} total bits with a {1} frequency cutoff\".format(int(total_bits), frequency_cutoff))"
   ]
  },
  {
   "cell_type": "code",
   "execution_count": 22,
   "metadata": {},
   "outputs": [
    {
     "name": "stdout",
     "output_type": "stream",
     "text": [
      "213144336 total bits with a 0 frequency cutoff\n",
      "191613557 total bits with a 224486 frequency cutoff\n",
      "162865626 total bits with a 448972 frequency cutoff\n",
      "151183598 total bits with a 673458 frequency cutoff\n",
      "75996208 total bits with a 897944 frequency cutoff\n",
      "38002551 total bits with a 1122430 frequency cutoff\n"
     ]
    }
   ],
   "source": [
    "#param sweep\n",
    "for frequency_cutoff in range(6):\n",
    "    #calculate entropy of the set I want to use\n",
    "    below_cutoff = 0\n",
    "    label_num = 0\n",
    "    total_counts = 0\n",
    "    total_bits_below_cutoff = 0\n",
    "    frequencies = []\n",
    "    for symbol, occ in hist.items():\n",
    "        if occ >= frequency_cutoff * fifths:\n",
    "#             print(symbol, occ)\n",
    "            label_num += 1\n",
    "            frequencies.append(occ)\n",
    "            total_counts += occ\n",
    "        else:\n",
    "            below_cutoff += 1\n",
    "            total_bits_below_cutoff += 7 * (len(symbol) + 1)\n",
    "    for i in range(len(frequencies)):\n",
    "        frequencies[i] /= total_counts\n",
    "#     print(frequencies)\n",
    "    entropy = 0\n",
    "    for f in frequencies:\n",
    "        entropy -= f * math.log(f, 2)\n",
    "#     print(entropy)\n",
    "    # entropy = label_num / total_counts #redo this!!!\n",
    "#     print(\"the entropy is {0} with {1} edges, taking {2} bits\".format(entropy, edges, bits_per_edge * edges * entropy))\n",
    "    #this willl need to be changed in the future, assumes each label is 1 character long\n",
    "#     print(\"there are {0} labels with less than {1} occurences, which use {2} bits\".format(below_cutoff, frequency_cutoff, total_bits_below_cutoff))\n",
    "    total_bits = edges * bits_per_edge + bits_per_edge * edges * entropy + total_bits_below_cutoff #why do we add edges * bits_per_edge twice?\n",
    "    print(\"{0} total bits with a {1} frequency cutoff\".format(int(total_bits), frequency_cutoff * fifths))"
   ]
  },
  {
   "cell_type": "code",
   "execution_count": 23,
   "metadata": {},
   "outputs": [
    {
     "name": "stdout",
     "output_type": "stream",
     "text": [
      "38002551.0 total bits from nodes+edges with a 5 frequency cutoff\n"
     ]
    }
   ],
   "source": [
    "total_bits = edges * bits_per_edge + bits_per_edge * edges * entropy + 14 * below_cutoff\n",
    "print(f\"{total_bits} total bits from nodes+edges with a {frequency_cutoff} frequency cutoff\")\n",
    "#steve can you confirm this is correct?"
   ]
  },
  {
   "cell_type": "code",
   "execution_count": 24,
   "metadata": {},
   "outputs": [
    {
     "name": "stdout",
     "output_type": "stream",
     "text": [
      "labels:  ['/', '_', '9', '7', '8', '3', 'l', 'v', 'z', 'x', 's', 'b', 'a', ':', 't', 'e', 'n', '@', '1', '.', 'c', 'm', 'r', 'i', 'f', '*', 'y', 'p', 'g', '-', 'd', 'k', 'o', '5', 'h', 'u', 'j', '2', '4', 'w', 'q', '6', '0']\n",
      "bits from labels:  602\n",
      "total labels:  43\n",
      "6\n",
      "3\n",
      "codebook bit lengths storage size:  18\n",
      "total codebook size:  620 bits\n"
     ]
    }
   ],
   "source": [
    "import math\n",
    "\n",
    "#calculate codebook size\n",
    "#use 2.6.2 and 2.6.3 in compact data structures book\n",
    "#or just the canonical huffman wikipedia page is actually very helpful\n",
    "\n",
    "#you can store a canonical huffman codebook as a list of symbols in order of mots frequent to least\n",
    "#and then the number of symbols for each bit-length\n",
    "#example: A = 11, B = 0, C = 101, D = 100\n",
    "#becomes (1,1,2), ('B','A','C','D')\n",
    "#so to calculate size we take the size of a list of ints (probably normal size maybe long? ask steve) of list size log base 2 of total symbols\n",
    "#and add the length of a list of labels which is 7(n+1) for each label where n is label size\n",
    "labels = hist.keys()\n",
    "print(\"labels: \", list(labels))\n",
    "label_bits = 0\n",
    "for l in labels:\n",
    "    label_bits += 7 * (len(l) + 1)\n",
    "print(\"bits from labels: \", label_bits)\n",
    "print(\"total labels: \", len(labels))\n",
    "int_size = math.ceil(math.log(len(labels), 2)) #bit size of an unsigned int in c, goes up to 4,294,967,295, no idea if that is enough, ask steve\n",
    "print(int_size)\n",
    "int_size = math.ceil(math.log(int_size + 1, 2))\n",
    "print(int_size)\n",
    "bit_length_storage =  int_size * math.ceil(math.log(len(labels), 2))\n",
    "print(\"codebook bit lengths storage size: \", bit_length_storage)\n",
    "print(\"total codebook size: \", str(bit_length_storage + label_bits) + \" bits\")"
   ]
  },
  {
   "cell_type": "code",
   "execution_count": 19,
   "metadata": {
    "collapsed": true
   },
   "outputs": [],
   "source": [
    "# sweep with everything later"
   ]
  },
  {
   "cell_type": "code",
   "execution_count": null,
   "metadata": {
    "collapsed": true
   },
   "outputs": [],
   "source": []
  }
 ],
 "metadata": {
  "kernelspec": {
   "display_name": "Python 3",
   "language": "python",
   "name": "python3"
  },
  "language_info": {
   "codemirror_mode": {
    "name": "ipython",
    "version": 3
   },
   "file_extension": ".py",
   "mimetype": "text/x-python",
   "name": "python",
   "nbconvert_exporter": "python",
   "pygments_lexer": "ipython3",
   "version": "3.6.3"
  }
 },
 "nbformat": 4,
 "nbformat_minor": 2
}
